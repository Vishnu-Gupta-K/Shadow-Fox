** Please start by reviewing the readme file in the Shadow Fox folder. **
!pip install pyspellchecker
!pip install Levenshtein
from spellchecker import SpellChecker
from Levenshtein import distance as levenshtein_distance


class Spell:
    def __init__(self, custom=None):
        self.s = SpellChecker()
        if custom:
            for w in custom:
                self.s.word_frequency.load_words([w])

    def identify(self, t):
        w = t.split()
        m = self.s.unknown(w)
        return m

    def suggest(self, m):
        d = {}
        for w in m:
            c = self.s.candidates(w)
            if c:
                # Use levenshtein_distance here
                b = min(c, key=lambda x: levenshtein_distance(w, x))
                d[w] = b
        return d

    def autocorrect(self, t):
        m = self.identify(t)
        s = self.suggest(m)
        c = t
        for w, r in s.items():
            c = c.replace(w, r)
        return c


c = [""]
s = Spell(c)

while True:
    i = input("Enter text (or 'quit' to exit): ")
    if i.lower() == 'quit':
        break
    r = s.autocorrect(i)
    print("Corrected Text:", r)
